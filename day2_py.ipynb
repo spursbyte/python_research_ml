{
  "nbformat": 4,
  "nbformat_minor": 0,
  "metadata": {
    "colab": {
      "provenance": [],
      "authorship_tag": "ABX9TyNzgiEmEth8aduPfE8OGkFk",
      "include_colab_link": true
    },
    "kernelspec": {
      "name": "python3",
      "display_name": "Python 3"
    },
    "language_info": {
      "name": "python"
    }
  },
  "cells": [
    {
      "cell_type": "markdown",
      "metadata": {
        "id": "view-in-github",
        "colab_type": "text"
      },
      "source": [
        "<a href=\"https://colab.research.google.com/github/spursbyte/python_research_ml/blob/main/day2_py.ipynb\" target=\"_parent\"><img src=\"https://colab.research.google.com/assets/colab-badge.svg\" alt=\"Open In Colab\"/></a>"
      ]
    },
    {
      "cell_type": "code",
      "execution_count": null,
      "metadata": {
        "id": "ZtmZ7XCAqMOR"
      },
      "outputs": [],
      "source": [
        "#indexing\n",
        "l=[4,5,6,[8,9,10],11,12]"
      ]
    },
    {
      "cell_type": "code",
      "source": [
        "a= l[3][2]\n",
        "print(a)"
      ],
      "metadata": {
        "colab": {
          "base_uri": "https://localhost:8080/"
        },
        "id": "2kqTfnmzsTiE",
        "outputId": "ba14f9d0-0c23-4401-fd08-8321f0c3e51b"
      },
      "execution_count": null,
      "outputs": [
        {
          "output_type": "stream",
          "name": "stdout",
          "text": [
            "10\n"
          ]
        }
      ]
    },
    {
      "cell_type": "code",
      "source": [
        "#range\n",
        "b=range(5,25)\n",
        "print(b)"
      ],
      "metadata": {
        "colab": {
          "base_uri": "https://localhost:8080/"
        },
        "id": "JZdqvX7csjPQ",
        "outputId": "0e8d9b87-6eb9-412e-c929-e6b0fd67890e"
      },
      "execution_count": null,
      "outputs": [
        {
          "output_type": "stream",
          "name": "stdout",
          "text": [
            "range(5, 25)\n"
          ]
        }
      ]
    },
    {
      "cell_type": "code",
      "source": [
        "mylist=list(b)\n",
        "print(mylist)"
      ],
      "metadata": {
        "colab": {
          "base_uri": "https://localhost:8080/"
        },
        "id": "KqRqqIHRsyco",
        "outputId": "bec37b2d-7be8-40d8-aed2-3ec9165ba0f9"
      },
      "execution_count": null,
      "outputs": [
        {
          "output_type": "stream",
          "name": "stdout",
          "text": [
            "[5, 6, 7, 8, 9, 10, 11, 12, 13, 14, 15, 16, 17, 18, 19, 20, 21, 22, 23, 24]\n"
          ]
        }
      ]
    },
    {
      "cell_type": "code",
      "source": [
        "#range\n",
        "b=range(5,25,5)\n",
        "print(b)"
      ],
      "metadata": {
        "colab": {
          "base_uri": "https://localhost:8080/"
        },
        "id": "wf3XFysVs7Mv",
        "outputId": "02500fc8-3f16-44d6-a9e1-964e7f3c1c33"
      },
      "execution_count": null,
      "outputs": [
        {
          "output_type": "stream",
          "name": "stdout",
          "text": [
            "range(5, 25, 5)\n"
          ]
        }
      ]
    },
    {
      "cell_type": "code",
      "source": [
        "mylist=list(b)\n",
        "print(mylist)"
      ],
      "metadata": {
        "colab": {
          "base_uri": "https://localhost:8080/"
        },
        "id": "QEzI20K2tkUp",
        "outputId": "8fdce563-8179-47cb-d31c-3dd8373e1f61"
      },
      "execution_count": null,
      "outputs": [
        {
          "output_type": "stream",
          "name": "stdout",
          "text": [
            "[5, 10, 15, 20]\n"
          ]
        }
      ]
    },
    {
      "cell_type": "code",
      "source": [
        "#negative index\n",
        "print(b[-1])\n",
        "b[-2]"
      ],
      "metadata": {
        "colab": {
          "base_uri": "https://localhost:8080/"
        },
        "id": "z3MvMinYtnJw",
        "outputId": "7f49c74c-4bbb-43e1-9145-02ac13ac8a25"
      },
      "execution_count": null,
      "outputs": [
        {
          "output_type": "stream",
          "name": "stdout",
          "text": [
            "20\n"
          ]
        },
        {
          "output_type": "execute_result",
          "data": {
            "text/plain": [
              "15"
            ]
          },
          "metadata": {},
          "execution_count": 15
        }
      ]
    },
    {
      "cell_type": "code",
      "source": [
        "#slicing\n",
        "#range\n",
        "b=range(5,25)\n",
        "print(b)\n",
        "mylist=list(b)\n",
        "print(mylist)"
      ],
      "metadata": {
        "colab": {
          "base_uri": "https://localhost:8080/"
        },
        "id": "ZuRJ0pXYtyYY",
        "outputId": "39033201-a968-4781-d76a-3a63d4480aa7"
      },
      "execution_count": null,
      "outputs": [
        {
          "output_type": "stream",
          "name": "stdout",
          "text": [
            "range(5, 25)\n",
            "[5, 6, 7, 8, 9, 10, 11, 12, 13, 14, 15, 16, 17, 18, 19, 20, 21, 22, 23, 24]\n"
          ]
        }
      ]
    },
    {
      "cell_type": "code",
      "source": [
        "# beaware of upper bound as upper bound is usually ignored in python\n",
        "print(mylist[2:3])\n",
        "print(mylist[2:4])\n",
        "#fromindex to finish\n",
        "print(mylist[3:])\n",
        "#from start to index\n",
        "print(mylist[:5])\n",
        "#from start to end in steps of -1(reverse the list)\n",
        "print(mylist[::-1])\n",
        "\n",
        "print(mylist[2:10:2])#means in between skip 2-1= 1 element\n",
        "print(mylist[2:10:3])#means in between skip 3-1=2 elements\n",
        "\n",
        "\n",
        "\n"
      ],
      "metadata": {
        "colab": {
          "base_uri": "https://localhost:8080/"
        },
        "id": "S4dBBKJOvw-Q",
        "outputId": "ee0d929b-fcff-44ed-f41c-d43ad4ace660"
      },
      "execution_count": null,
      "outputs": [
        {
          "output_type": "stream",
          "name": "stdout",
          "text": [
            "[7]\n",
            "[7, 8]\n",
            "[8, 9, 10, 11, 12, 13, 14, 15, 16, 17, 18, 19, 20, 21, 22, 23, 24]\n",
            "[5, 6, 7, 8, 9]\n",
            "[24, 23, 22, 21, 20, 19, 18, 17, 16, 15, 14, 13, 12, 11, 10, 9, 8, 7, 6, 5]\n",
            "[7, 9, 11, 13]\n",
            "[7, 10, 13]\n"
          ]
        }
      ]
    },
    {
      "cell_type": "code",
      "source": [
        "# AVERAGE OF 3 ELEMENTS WITH SUM AND LEN FUNCTIONS\n",
        "lst=[10,20,30]\n"
      ],
      "metadata": {
        "id": "i4A5ji6_xQjI"
      },
      "execution_count": null,
      "outputs": []
    },
    {
      "cell_type": "code",
      "source": [
        "print(len(lst))"
      ],
      "metadata": {
        "colab": {
          "base_uri": "https://localhost:8080/"
        },
        "id": "hasRICaLaf9d",
        "outputId": "0d894816-e129-4f32-9532-260cab6e26af"
      },
      "execution_count": null,
      "outputs": [
        {
          "output_type": "stream",
          "name": "stdout",
          "text": [
            "3\n"
          ]
        }
      ]
    },
    {
      "cell_type": "code",
      "source": [
        "print(sum(lst))"
      ],
      "metadata": {
        "colab": {
          "base_uri": "https://localhost:8080/"
        },
        "id": "CKRoDazPaoBf",
        "outputId": "a2722749-d7b8-481a-a04b-abd46a7993d1"
      },
      "execution_count": null,
      "outputs": [
        {
          "output_type": "stream",
          "name": "stdout",
          "text": [
            "60\n"
          ]
        }
      ]
    },
    {
      "cell_type": "code",
      "source": [
        "avg= sum(lst)/len(lst)"
      ],
      "metadata": {
        "id": "veIvDnBEarfv"
      },
      "execution_count": null,
      "outputs": []
    },
    {
      "cell_type": "code",
      "source": [
        "print(avg)"
      ],
      "metadata": {
        "id": "wm5s_FXGawqP",
        "outputId": "e380eb6f-31b7-4b16-a2d7-1660ceea3128",
        "colab": {
          "base_uri": "https://localhost:8080/"
        }
      },
      "execution_count": null,
      "outputs": [
        {
          "output_type": "stream",
          "name": "stdout",
          "text": [
            "20.0\n"
          ]
        }
      ]
    },
    {
      "cell_type": "code",
      "source": [],
      "metadata": {
        "id": "-47pVD_AazG_"
      },
      "execution_count": null,
      "outputs": []
    }
  ]
}