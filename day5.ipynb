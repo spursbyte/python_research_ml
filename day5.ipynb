{
  "nbformat": 4,
  "nbformat_minor": 0,
  "metadata": {
    "colab": {
      "provenance": [],
      "authorship_tag": "ABX9TyPaQW+PmXxyEUhFOu64C/6C",
      "include_colab_link": true
    },
    "kernelspec": {
      "name": "python3",
      "display_name": "Python 3"
    },
    "language_info": {
      "name": "python"
    }
  },
  "cells": [
    {
      "cell_type": "markdown",
      "metadata": {
        "id": "view-in-github",
        "colab_type": "text"
      },
      "source": [
        "<a href=\"https://colab.research.google.com/github/spursbyte/python_research_ml/blob/main/day5.ipynb\" target=\"_parent\"><img src=\"https://colab.research.google.com/assets/colab-badge.svg\" alt=\"Open In Colab\"/></a>"
      ]
    },
    {
      "cell_type": "code",
      "execution_count": 2,
      "metadata": {
        "id": "WWUzzYPK9iQG"
      },
      "outputs": [],
      "source": [
        "#functions\n",
        "def sum_prod(in1,in2):\n",
        "  sum= in1+in2\n",
        "  prod=in1*in2\n",
        "  print('sum=' + str(sum))\n",
        "  print('prod=' + str(prod))\n",
        "  return sum,prod\n"
      ]
    },
    {
      "cell_type": "code",
      "source": [
        "sum_prod(2,7) # output returned as a tuple"
      ],
      "metadata": {
        "colab": {
          "base_uri": "https://localhost:8080/"
        },
        "id": "iacr3HSj-35J",
        "outputId": "01fee059-a499-4569-d0e2-5eb526e147e8"
      },
      "execution_count": 3,
      "outputs": [
        {
          "output_type": "stream",
          "name": "stdout",
          "text": [
            "sum=9\n",
            "prod=14\n"
          ]
        },
        {
          "output_type": "execute_result",
          "data": {
            "text/plain": [
              "(9, 14)"
            ]
          },
          "metadata": {},
          "execution_count": 3
        }
      ]
    },
    {
      "cell_type": "code",
      "source": [
        "result= sum_prod(5,-8)"
      ],
      "metadata": {
        "colab": {
          "base_uri": "https://localhost:8080/"
        },
        "id": "JAjKSQji--lv",
        "outputId": "daa562e1-1d49-403c-f735-a61664f53ba2"
      },
      "execution_count": 4,
      "outputs": [
        {
          "output_type": "stream",
          "name": "stdout",
          "text": [
            "sum=-3\n",
            "prod=-40\n"
          ]
        }
      ]
    },
    {
      "cell_type": "code",
      "source": [
        "print(result[1],result[0])"
      ],
      "metadata": {
        "colab": {
          "base_uri": "https://localhost:8080/"
        },
        "id": "TdlD1zwZ_zbw",
        "outputId": "6ec7952c-6fec-4898-be9d-34fb567144d9"
      },
      "execution_count": 6,
      "outputs": [
        {
          "output_type": "stream",
          "name": "stdout",
          "text": [
            "-40 -3\n"
          ]
        }
      ]
    },
    {
      "cell_type": "code",
      "source": [
        "# lambda functions\n",
        "res = lambda x: x ** 2 - 4\n",
        "print(res(2))"
      ],
      "metadata": {
        "colab": {
          "base_uri": "https://localhost:8080/"
        },
        "id": "MvAZs-zM_5KH",
        "outputId": "29fcb984-45fb-4e6a-960b-a021ba58c151"
      },
      "execution_count": 11,
      "outputs": [
        {
          "output_type": "stream",
          "name": "stdout",
          "text": [
            "0\n"
          ]
        }
      ]
    },
    {
      "cell_type": "code",
      "source": [
        "#exercise factorial function\n",
        "def factorial(n):\n",
        "  return np.prod(np.arange(1,n+1))\n"
      ],
      "metadata": {
        "id": "aDew30znAsN2"
      },
      "execution_count": 19,
      "outputs": []
    },
    {
      "cell_type": "code",
      "source": [
        "import numpy as np\n"
      ],
      "metadata": {
        "id": "lqW3oLo3CIh2"
      },
      "execution_count": 12,
      "outputs": []
    },
    {
      "cell_type": "code",
      "source": [
        "np.arange(4)"
      ],
      "metadata": {
        "colab": {
          "base_uri": "https://localhost:8080/"
        },
        "id": "TcXJjBPCCLW_",
        "outputId": "8aa541c8-113a-410f-810d-192bbac6f387"
      },
      "execution_count": 13,
      "outputs": [
        {
          "output_type": "execute_result",
          "data": {
            "text/plain": [
              "array([0, 1, 2, 3])"
            ]
          },
          "metadata": {},
          "execution_count": 13
        }
      ]
    },
    {
      "cell_type": "code",
      "source": [
        "np.prod(np.arange(1,4+1))"
      ],
      "metadata": {
        "colab": {
          "base_uri": "https://localhost:8080/"
        },
        "id": "G4ITxeu4CQVv",
        "outputId": "0f514a2e-ae0f-4a32-bc66-54dabe5b6376"
      },
      "execution_count": 18,
      "outputs": [
        {
          "output_type": "execute_result",
          "data": {
            "text/plain": [
              "24"
            ]
          },
          "metadata": {},
          "execution_count": 18
        }
      ]
    },
    {
      "cell_type": "code",
      "source": [],
      "metadata": {
        "colab": {
          "base_uri": "https://localhost:8080/"
        },
        "id": "9uFjKNxlCqTd",
        "outputId": "b830e50e-ffaf-48fe-b2b0-2dbf4247cf0d"
      },
      "execution_count": 17,
      "outputs": [
        {
          "output_type": "stream",
          "name": "stdout",
          "text": [
            "siddharth->0.5\n"
          ]
        }
      ]
    },
    {
      "cell_type": "code",
      "source": [
        "fact1= factorial(6)\n",
        "print(fact1)"
      ],
      "metadata": {
        "colab": {
          "base_uri": "https://localhost:8080/"
        },
        "outputId": "8352473d-559a-4f88-b2a2-c72745b2639f",
        "id": "f7mfacbrEsmO"
      },
      "execution_count": 21,
      "outputs": [
        {
          "output_type": "stream",
          "name": "stdout",
          "text": [
            "720\n"
          ]
        }
      ]
    },
    {
      "cell_type": "code",
      "source": [
        "import math\n"
      ],
      "metadata": {
        "id": "gH1NK6paFORw"
      },
      "execution_count": 22,
      "outputs": []
    },
    {
      "cell_type": "code",
      "source": [
        "math.factorial(6)"
      ],
      "metadata": {
        "colab": {
          "base_uri": "https://localhost:8080/"
        },
        "id": "bYlqOjhkFfou",
        "outputId": "23ee1409-5621-4474-d169-64304b0701e9"
      },
      "execution_count": 23,
      "outputs": [
        {
          "output_type": "execute_result",
          "data": {
            "text/plain": [
              "720"
            ]
          },
          "metadata": {},
          "execution_count": 23
        }
      ]
    },
    {
      "cell_type": "code",
      "source": [
        "math.factorial(0)"
      ],
      "metadata": {
        "colab": {
          "base_uri": "https://localhost:8080/"
        },
        "id": "ei6T0RPXFkst",
        "outputId": "2590426a-50ae-41be-e5ed-4395d855dc37"
      },
      "execution_count": 24,
      "outputs": [
        {
          "output_type": "execute_result",
          "data": {
            "text/plain": [
              "1"
            ]
          },
          "metadata": {},
          "execution_count": 24
        }
      ]
    },
    {
      "cell_type": "code",
      "source": [
        "factorial(0)"
      ],
      "metadata": {
        "colab": {
          "base_uri": "https://localhost:8080/"
        },
        "id": "_VF5o8jbF_Nv",
        "outputId": "c56a2533-4f51-44cd-f89f-53fed4056ea6"
      },
      "execution_count": 25,
      "outputs": [
        {
          "output_type": "execute_result",
          "data": {
            "text/plain": [
              "1"
            ]
          },
          "metadata": {},
          "execution_count": 25
        }
      ]
    },
    {
      "cell_type": "code",
      "source": [
        "#Scope of variables\n",
        "#inside a fun scope is local(only accesssible within the fun)->local var\n",
        "#both accessible inside and outside fun-> global var\n",
        "def fun():\n",
        "  print(z)"
      ],
      "metadata": {
        "id": "R0D4_Ac4GExv"
      },
      "execution_count": 26,
      "outputs": []
    },
    {
      "cell_type": "code",
      "source": [
        "z=3\n",
        "fun()"
      ],
      "metadata": {
        "colab": {
          "base_uri": "https://localhost:8080/"
        },
        "id": "8v4FMFDJLMnQ",
        "outputId": "ad72f4b1-7d65-4697-9e6f-0013ffd57140"
      },
      "execution_count": 27,
      "outputs": [
        {
          "output_type": "stream",
          "name": "stdout",
          "text": [
            "3\n"
          ]
        }
      ]
    },
    {
      "cell_type": "code",
      "source": [
        "import numpy as np\n"
      ],
      "metadata": {
        "id": "5l7wrU0YL7Yi"
      },
      "execution_count": 29,
      "outputs": []
    },
    {
      "cell_type": "code",
      "source": [
        "#exercise write a fun that flips a coin n times and return the avg\n",
        "def flip(n):\n",
        " return np.mean(np.random.randn(n)>0)\n",
        "\n"
      ],
      "metadata": {
        "id": "PIRCDsEALQf9"
      },
      "execution_count": 34,
      "outputs": []
    },
    {
      "cell_type": "code",
      "source": [
        "np.random.randn(5)"
      ],
      "metadata": {
        "colab": {
          "base_uri": "https://localhost:8080/"
        },
        "id": "ZcFoBP8PMOWt",
        "outputId": "e0fadcfe-30d4-46a2-d000-b15bb2a7a871"
      },
      "execution_count": 31,
      "outputs": [
        {
          "output_type": "execute_result",
          "data": {
            "text/plain": [
              "array([ 1.66349811,  0.07584933,  0.401433  , -0.33376547, -0.51365007])"
            ]
          },
          "metadata": {},
          "execution_count": 31
        }
      ]
    },
    {
      "cell_type": "code",
      "source": [
        "np.random.randn(5)>0\n"
      ],
      "metadata": {
        "colab": {
          "base_uri": "https://localhost:8080/"
        },
        "id": "2svrfX0LMRxO",
        "outputId": "2487a8c0-0b9a-4f72-86c8-dc38fbe0e0e3"
      },
      "execution_count": 32,
      "outputs": [
        {
          "output_type": "execute_result",
          "data": {
            "text/plain": [
              "array([ True, False, False, False,  True])"
            ]
          },
          "metadata": {},
          "execution_count": 32
        }
      ]
    },
    {
      "cell_type": "code",
      "source": [
        "np.mean(np.random.randn(5)>0)"
      ],
      "metadata": {
        "colab": {
          "base_uri": "https://localhost:8080/"
        },
        "id": "_t8bWs-BMgnN",
        "outputId": "a21babb4-6795-4eaa-aaa6-2e320e570c25"
      },
      "execution_count": 33,
      "outputs": [
        {
          "output_type": "execute_result",
          "data": {
            "text/plain": [
              "0.8"
            ]
          },
          "metadata": {},
          "execution_count": 33
        }
      ]
    },
    {
      "cell_type": "code",
      "source": [
        "flip(9)"
      ],
      "metadata": {
        "colab": {
          "base_uri": "https://localhost:8080/"
        },
        "id": "oXU4jSYKMmok",
        "outputId": "8e4c4ee2-7b98-4b5f-fc02-6134a859182b"
      },
      "execution_count": 36,
      "outputs": [
        {
          "output_type": "execute_result",
          "data": {
            "text/plain": [
              "0.5555555555555556"
            ]
          },
          "metadata": {},
          "execution_count": 36
        }
      ]
    },
    {
      "cell_type": "code",
      "source": [
        "#flow control statements\n",
        "\n",
        "#if else statemnts\n",
        "r=np.random.randn()\n",
        "if r>0:\n",
        "  print(str(r)+ ' is positive')\n",
        "else:\n",
        "  print(str(r)+' is negative')"
      ],
      "metadata": {
        "colab": {
          "base_uri": "https://localhost:8080/"
        },
        "id": "qyYLoB8aMr9t",
        "outputId": "285b7796-a3fc-4873-cf85-ebad104dd4b9"
      },
      "execution_count": 43,
      "outputs": [
        {
          "output_type": "stream",
          "name": "stdout",
          "text": [
            "-1.0357846708488667 is negative\n"
          ]
        }
      ]
    },
    {
      "cell_type": "code",
      "source": [],
      "metadata": {
        "id": "B4eOCwbzUV0J"
      },
      "execution_count": null,
      "outputs": []
    },
    {
      "cell_type": "code",
      "source": [],
      "metadata": {
        "id": "7Piz89e3TB-b"
      },
      "execution_count": 37,
      "outputs": []
    }
  ]
}