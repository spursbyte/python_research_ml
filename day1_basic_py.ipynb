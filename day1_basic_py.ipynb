{
  "nbformat": 4,
  "nbformat_minor": 0,
  "metadata": {
    "colab": {
      "provenance": [],
      "authorship_tag": "ABX9TyOxhn3HzhDiVzga97reVbnI",
      "include_colab_link": true
    },
    "kernelspec": {
      "name": "python3",
      "display_name": "Python 3"
    },
    "language_info": {
      "name": "python"
    }
  },
  "cells": [
    {
      "cell_type": "markdown",
      "metadata": {
        "id": "view-in-github",
        "colab_type": "text"
      },
      "source": [
        "<a href=\"https://colab.research.google.com/github/spursbyte/python_research_ml/blob/main/day1_basic_py.ipynb\" target=\"_parent\"><img src=\"https://colab.research.google.com/assets/colab-badge.svg\" alt=\"Open In Colab\"/></a>"
      ]
    },
    {
      "cell_type": "code",
      "execution_count": 2,
      "metadata": {
        "id": "Oa1VGa_Yiygl"
      },
      "outputs": [],
      "source": [
        "list= [1,2,3,4,5,77,7777,7777777,77,87,97,7]"
      ]
    },
    {
      "cell_type": "code",
      "source": [
        "list.count(7)"
      ],
      "metadata": {
        "colab": {
          "base_uri": "https://localhost:8080/"
        },
        "id": "-_A3axpIi9t9",
        "outputId": "f8dd34cb-b1d5-41c0-cc69-88d2451b6e39"
      },
      "execution_count": 3,
      "outputs": [
        {
          "output_type": "execute_result",
          "data": {
            "text/plain": [
              "1"
            ]
          },
          "metadata": {},
          "execution_count": 3
        }
      ]
    },
    {
      "cell_type": "code",
      "source": [
        "list.append(-87)"
      ],
      "metadata": {
        "id": "_zI9HTa3jKUl"
      },
      "execution_count": 4,
      "outputs": []
    },
    {
      "cell_type": "code",
      "source": [
        "list"
      ],
      "metadata": {
        "colab": {
          "base_uri": "https://localhost:8080/"
        },
        "id": "VQQFh0x9jQKG",
        "outputId": "5b4fc6d7-eebf-4324-d5b1-a008bcdaca1e"
      },
      "execution_count": 5,
      "outputs": [
        {
          "output_type": "execute_result",
          "data": {
            "text/plain": [
              "[1, 2, 3, 4, 5, 77, 7777, 7777777, 77, 87, 97, 7, -87]"
            ]
          },
          "metadata": {},
          "execution_count": 5
        }
      ]
    },
    {
      "cell_type": "code",
      "source": [
        "list.sort()"
      ],
      "metadata": {
        "id": "cGXoinfbjRx9"
      },
      "execution_count": 8,
      "outputs": []
    },
    {
      "cell_type": "code",
      "source": [
        "list"
      ],
      "metadata": {
        "colab": {
          "base_uri": "https://localhost:8080/"
        },
        "id": "GaYGyRMjjYqd",
        "outputId": "2fce7a77-63a5-4f18-bfff-19173b409ee2"
      },
      "execution_count": 9,
      "outputs": [
        {
          "output_type": "execute_result",
          "data": {
            "text/plain": [
              "[-87, 1, 2, 3, 4, 5, 7, 77, 77, 87, 97, 7777, 7777777]"
            ]
          },
          "metadata": {},
          "execution_count": 9
        }
      ]
    },
    {
      "cell_type": "code",
      "source": [
        "list.sort(reverse=True)"
      ],
      "metadata": {
        "id": "bhFt8F00jprV"
      },
      "execution_count": 16,
      "outputs": []
    },
    {
      "cell_type": "code",
      "source": [
        "list"
      ],
      "metadata": {
        "colab": {
          "base_uri": "https://localhost:8080/"
        },
        "id": "B_y8Rwd4j4Hz",
        "outputId": "cb5d0f25-6449-4733-ebfd-cf021706145b"
      },
      "execution_count": 17,
      "outputs": [
        {
          "output_type": "execute_result",
          "data": {
            "text/plain": [
              "[7777777, 7777, 97, 87, 77, 77, 7, 5, 4, 3, 2, 1, -87]"
            ]
          },
          "metadata": {},
          "execution_count": 17
        }
      ]
    },
    {
      "cell_type": "code",
      "source": [
        "list.sort(key=TracebackType) #REVIEW THIS\n"
      ],
      "metadata": {
        "colab": {
          "base_uri": "https://localhost:8080/",
          "height": 194
        },
        "id": "HZ5Uef80kYzB",
        "outputId": "1d023c70-336e-4e05-8639-1a82ac05b3bf"
      },
      "execution_count": 19,
      "outputs": [
        {
          "output_type": "error",
          "ename": "TypeError",
          "evalue": "ignored",
          "traceback": [
            "\u001b[0;31m---------------------------------------------------------------------------\u001b[0m",
            "\u001b[0;31mTypeError\u001b[0m                                 Traceback (most recent call last)",
            "\u001b[0;32m<ipython-input-19-2ed0dd8339d0>\u001b[0m in \u001b[0;36m<cell line: 2>\u001b[0;34m()\u001b[0m\n\u001b[1;32m      1\u001b[0m \u001b[0;32mfrom\u001b[0m \u001b[0mtypes\u001b[0m \u001b[0;32mimport\u001b[0m \u001b[0mTracebackType\u001b[0m\u001b[0;34m\u001b[0m\u001b[0;34m\u001b[0m\u001b[0m\n\u001b[0;32m----> 2\u001b[0;31m \u001b[0mlist\u001b[0m\u001b[0;34m.\u001b[0m\u001b[0msort\u001b[0m\u001b[0;34m(\u001b[0m\u001b[0mkey\u001b[0m\u001b[0;34m=\u001b[0m\u001b[0mTracebackType\u001b[0m\u001b[0;34m)\u001b[0m\u001b[0;34m\u001b[0m\u001b[0;34m\u001b[0m\u001b[0m\n\u001b[0m",
            "\u001b[0;31mTypeError\u001b[0m: TracebackType() missing required argument 'tb_frame' (pos 2)"
          ]
        }
      ]
    },
    {
      "cell_type": "code",
      "source": [
        "#LIST VS TUPLE\n",
        "# LIST ARE MUTABLE(VALUE CAN BE REPLACED) WHILE TUPLE IS IMMUTABLE\n",
        "l=[4,5,6,7,8,9,10,11,345]\n",
        "t=(3,8,9,0)\n",
        "l[2]=99\n",
        "#t[2]=0\n",
        "print(l)\n",
        "print(t)\n"
      ],
      "metadata": {
        "colab": {
          "base_uri": "https://localhost:8080/"
        },
        "id": "ykMUIdjKk-zv",
        "outputId": "f5562fc7-a3de-4763-888b-17e97a552a9b"
      },
      "execution_count": 2,
      "outputs": [
        {
          "output_type": "stream",
          "name": "stdout",
          "text": [
            "[4, 5, 99, 7, 8, 9, 10, 11, 345]\n",
            "(3, 8, 9, 0)\n"
          ]
        }
      ]
    },
    {
      "cell_type": "code",
      "source": [
        "t.index(9)"
      ],
      "metadata": {
        "colab": {
          "base_uri": "https://localhost:8080/"
        },
        "id": "ggVQr_r26_7X",
        "outputId": "ae791672-31cf-4310-9044-e3a5ef52e4a2"
      },
      "execution_count": 3,
      "outputs": [
        {
          "output_type": "execute_result",
          "data": {
            "text/plain": [
              "2"
            ]
          },
          "metadata": {},
          "execution_count": 3
        }
      ]
    },
    {
      "cell_type": "code",
      "source": [
        "#conversion of tuple to list\n",
        "c=list(t)"
      ],
      "metadata": {
        "id": "Iqprttsb7LoU"
      },
      "execution_count": 4,
      "outputs": []
    },
    {
      "cell_type": "code",
      "source": [
        "c[0]=6\n",
        "print(c)"
      ],
      "metadata": {
        "colab": {
          "base_uri": "https://localhost:8080/"
        },
        "id": "UarbXTtA7SXH",
        "outputId": "a324b016-b731-4222-ac97-ffdbcbd4c131"
      },
      "execution_count": 5,
      "outputs": [
        {
          "output_type": "stream",
          "name": "stdout",
          "text": [
            "[6, 8, 9, 0]\n"
          ]
        }
      ]
    },
    {
      "cell_type": "code",
      "source": [
        "# check if 3 user input numbers are pythagorean triplet or not\n",
        "a=float(input())\n",
        "b= float(input())\n",
        "c=float(input())\n",
        "d= (c == (a**2 + b**2)**(1/2))\n",
        "print(str(d))"
      ],
      "metadata": {
        "colab": {
          "base_uri": "https://localhost:8080/"
        },
        "id": "SvacWMwL7YDv",
        "outputId": "a8e78993-ee4c-40d8-b515-59d9d5e5752f"
      },
      "execution_count": 12,
      "outputs": [
        {
          "output_type": "stream",
          "name": "stdout",
          "text": [
            "3\n",
            "4\n",
            "5\n",
            "True\n"
          ]
        }
      ]
    },
    {
      "cell_type": "code",
      "source": [
        "a= float(input())\n",
        "b=float(input())\n",
        "c= a*b\n",
        "d={'first num':a,'second num':b, 'product':c}\n",
        "print(d)"
      ],
      "metadata": {
        "colab": {
          "base_uri": "https://localhost:8080/"
        },
        "id": "HOm5DVWW-L__",
        "outputId": "7a6fee0f-4e92-4b0a-d9ce-2ebcd4761df5"
      },
      "execution_count": 14,
      "outputs": [
        {
          "output_type": "stream",
          "name": "stdout",
          "text": [
            "3\n",
            "4\n",
            "{'first num': 3.0, 'second num': 4.0, 'product': 12.0}\n"
          ]
        }
      ]
    },
    {
      "cell_type": "code",
      "source": [],
      "metadata": {
        "id": "YHZTFcRHB64s"
      },
      "execution_count": null,
      "outputs": []
    }
  ]
}